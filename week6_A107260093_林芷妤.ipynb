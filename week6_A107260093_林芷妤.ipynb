{
  "nbformat": 4,
  "nbformat_minor": 0,
  "metadata": {
    "colab": {
      "name": "week6-A107260093-林芷妤.ipynb",
      "provenance": [],
      "authorship_tag": "ABX9TyOc6VcMGkdNwQpa+FHuo53T",
      "include_colab_link": true
    },
    "kernelspec": {
      "name": "python3",
      "display_name": "Python 3"
    }
  },
  "cells": [
    {
      "cell_type": "markdown",
      "metadata": {
        "id": "view-in-github",
        "colab_type": "text"
      },
      "source": [
        "<a href=\"https://colab.research.google.com/github/CHIH-YU-LIN/introduction-to-data-science/blob/master/week6_A107260093_%E6%9E%97%E8%8A%B7%E5%A6%A4.ipynb\" target=\"_parent\"><img src=\"https://colab.research.google.com/assets/colab-badge.svg\" alt=\"Open In Colab\"/></a>"
      ]
    },
    {
      "cell_type": "code",
      "metadata": {
        "id": "m-fdIFmhCDif",
        "colab_type": "code",
        "colab": {
          "base_uri": "https://localhost:8080/",
          "height": 69
        },
        "outputId": "8ff23c79-1602-4b5a-ac57-a504a1927b52"
      },
      "source": [
        "city = input(\"請輸入您所在的城市：\")\n",
        "weather = input(\"請輸入現在的天氣：\")\n",
        "print(\"我在{}，天氣{}\".format(city, weather))"
      ],
      "execution_count": 1,
      "outputs": [
        {
          "output_type": "stream",
          "text": [
            "請輸入您所在的城市：台北\n",
            "請輸入現在的天氣：26\n",
            "我在台北，天氣26\n"
          ],
          "name": "stdout"
        }
      ]
    },
    {
      "cell_type": "code",
      "metadata": {
        "id": "XlL6yXV3CQ1c",
        "colab_type": "code",
        "colab": {
          "base_uri": "https://localhost:8080/",
          "height": 87
        },
        "outputId": "e26ee4b4-17fd-47b5-a8b7-3228c332d7f9"
      },
      "source": [
        "id_last_digit = input(\"請輸入您身分證字號的尾數：\")\n",
        "id_last_digit = int(id_last_digit)\n",
        "print(id_last_digit)\n",
        "print(type(id_last_digit))\n",
        "modulo = id_last_digit % 2\n",
        "ans = modulo == 1\n",
        "print(ans)"
      ],
      "execution_count": 2,
      "outputs": [
        {
          "output_type": "stream",
          "text": [
            "請輸入您身分證字號的尾數：5\n",
            "5\n",
            "<class 'int'>\n",
            "True\n"
          ],
          "name": "stdout"
        }
      ]
    }
  ]
}