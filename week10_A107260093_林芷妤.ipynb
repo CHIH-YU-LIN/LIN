{
  "nbformat": 4,
  "nbformat_minor": 0,
  "metadata": {
    "colab": {
      "name": "week10-A107260093-林芷妤.ipynb",
      "provenance": [],
      "authorship_tag": "ABX9TyPpn2TgO2lmdQOhHSb/qfoz",
      "include_colab_link": true
    },
    "kernelspec": {
      "name": "python3",
      "display_name": "Python 3"
    }
  },
  "cells": [
    {
      "cell_type": "markdown",
      "metadata": {
        "id": "view-in-github",
        "colab_type": "text"
      },
      "source": [
        "<a href=\"https://colab.research.google.com/github/CHIH-YU-LIN/introduction-to-data-science/blob/master/week10_A107260093_%E6%9E%97%E8%8A%B7%E5%A6%A4.ipynb\" target=\"_parent\"><img src=\"https://colab.research.google.com/assets/colab-badge.svg\" alt=\"Open In Colab\"/></a>"
      ]
    },
    {
      "cell_type": "code",
      "metadata": {
        "id": "Yz-b7P7l9VW6",
        "colab_type": "code",
        "colab": {
          "base_uri": "https://localhost:8080/",
          "height": 121
        },
        "outputId": "0e49c103-d782-495d-8b13-f524ddf1052b"
      },
      "source": [
        "avengers_endgame = {\n",
        "    \"rating\": 8.8,\n",
        "    \"genre\": [\"Action\", \"Adventure\", \"Sci-Fi\"],\n",
        "    \"heroes\": {\n",
        "        \"Iron Man\": \"Tony Stark\",\n",
        "        \"Captain America\": \"Steve Rogers\",\n",
        "        \"Hulk\": \"Bruce Banner\",\n",
        "        \"Thor\": \"Thor\",\n",
        "        \"Black Widow\": \"Natasha Romanoff\",\n",
        "        \"Hawkeye\": \"Clint Barton\"\n",
        "    }\n",
        "}\n",
        "heroes_dict = avengers_endgame['heroes']\n",
        "heroes_dict_len = len(heroes_dict)\n",
        "heroes_dict_keys = list(heroes_dict.keys())\n",
        "i = 0\n",
        "while i < heroes_dict_len:\n",
        "    dict_key = heroes_dict_keys[i]\n",
        "    print(heroes_dict[dict_key])\n",
        "    i += 1"
      ],
      "execution_count": 1,
      "outputs": [
        {
          "output_type": "stream",
          "text": [
            "Tony Stark\n",
            "Steve Rogers\n",
            "Bruce Banner\n",
            "Thor\n",
            "Natasha Romanoff\n",
            "Clint Barton\n"
          ],
          "name": "stdout"
        }
      ]
    }
  ]
}