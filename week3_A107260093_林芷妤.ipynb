{
  "nbformat": 4,
  "nbformat_minor": 0,
  "metadata": {
    "colab": {
      "name": "week3-A107260093-林芷妤.ipynb",
      "provenance": [],
      "authorship_tag": "ABX9TyNMWOf2oLRpAFCo1+/gegCR",
      "include_colab_link": true
    },
    "kernelspec": {
      "name": "python3",
      "display_name": "Python 3"
    }
  },
  "cells": [
    {
      "cell_type": "markdown",
      "metadata": {
        "id": "view-in-github",
        "colab_type": "text"
      },
      "source": [
        "<a href=\"https://colab.research.google.com/github/CHIH-YU-LIN/introduction-to-data-science/blob/master/week3_A107260093_%E6%9E%97%E8%8A%B7%E5%A6%A4.ipynb\" target=\"_parent\"><img src=\"https://colab.research.google.com/assets/colab-badge.svg\" alt=\"Open In Colab\"/></a>"
      ]
    },
    {
      "cell_type": "code",
      "metadata": {
        "id": "5BhEA2mocdLj",
        "colab_type": "code",
        "colab": {}
      },
      "source": [
        ""
      ],
      "execution_count": 0,
      "outputs": []
    },
    {
      "cell_type": "code",
      "metadata": {
        "id": "xybSu6i2FkYD",
        "colab_type": "code",
        "outputId": "3ed475e8-75b5-4457-969f-4a2738f9a091",
        "colab": {
          "base_uri": "https://localhost:8080/",
          "height": 121
        }
      },
      "source": [
        "movie_title = \"Avengers: Endgame\"\n",
        "movie_length = 181\n",
        "movie_rating = 8.4\n",
        "\n",
        "\n",
        "print(movie_title)\n",
        "print(movie_length)\n",
        "print(movie_rating)\n",
        "\n",
        "print(type(movie_title))\n",
        "print(type(movie_length))\n",
        "print(type(movie_rating))"
      ],
      "execution_count": 2,
      "outputs": [
        {
          "output_type": "stream",
          "text": [
            "Avengers: Endgame\n",
            "181\n",
            "8.4\n",
            "<class 'str'>\n",
            "<class 'int'>\n",
            "<class 'float'>\n"
          ],
          "name": "stdout"
        }
      ]
    }
  ]
}