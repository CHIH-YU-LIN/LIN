{
  "nbformat": 4,
  "nbformat_minor": 0,
  "metadata": {
    "colab": {
      "name": "week12-A107260093-林芷妤.ipynb",
      "provenance": [],
      "authorship_tag": "ABX9TyMQcehtkbFMicCGr16unfNJ",
      "include_colab_link": true
    },
    "kernelspec": {
      "name": "python3",
      "display_name": "Python 3"
    }
  },
  "cells": [
    {
      "cell_type": "markdown",
      "metadata": {
        "id": "view-in-github",
        "colab_type": "text"
      },
      "source": [
        "<a href=\"https://colab.research.google.com/github/CHIH-YU-LIN/introduction-to-data-science/blob/master/week12_A107260093_%E6%9E%97%E8%8A%B7%E5%A6%A4.ipynb\" target=\"_parent\"><img src=\"https://colab.research.google.com/assets/colab-badge.svg\" alt=\"Open In Colab\"/></a>"
      ]
    },
    {
      "cell_type": "code",
      "metadata": {
        "id": "K7aTrHFq0_EF",
        "colab_type": "code",
        "colab": {
          "base_uri": "https://localhost:8080/",
          "height": 156
        },
        "outputId": "4e9a2eff-910d-42b7-bd6e-808ff921b16f"
      },
      "source": [
        "x = int(input(\"請輸入起始的正整數：\"))\n",
        "y = int(input(\"請輸入終止的正整數：\"))\n",
        "for i in range(x, y + 1):\n",
        "    if i % 2:\n",
        "        print(i)"
      ],
      "execution_count": 1,
      "outputs": [
        {
          "output_type": "stream",
          "text": [
            "請輸入起始的正整數：55\n",
            "請輸入終止的正整數：66\n",
            "55\n",
            "57\n",
            "59\n",
            "61\n",
            "63\n",
            "65\n"
          ],
          "name": "stdout"
        }
      ]
    },
    {
      "cell_type": "code",
      "metadata": {
        "id": "klmXGFCK1XSp",
        "colab_type": "code",
        "colab": {
          "base_uri": "https://localhost:8080/",
          "height": 69
        },
        "outputId": "96be1bfe-a5a6-471b-a44e-27558f6ff24b"
      },
      "source": [
        "x = int(input(\"請輸入起始的正整數：\"))\n",
        "y = int(input(\"請輸入終止的正整數：\"))\n",
        "odds_cnt = 0\n",
        "for i in range(x, y + 1):\n",
        "    if i % 2:\n",
        "        odds_cnt += 1\n",
        "print(odds_cnt)"
      ],
      "execution_count": 2,
      "outputs": [
        {
          "output_type": "stream",
          "text": [
            "請輸入起始的正整數：55\n",
            "請輸入終止的正整數：66\n",
            "6\n"
          ],
          "name": "stdout"
        }
      ]
    },
    {
      "cell_type": "code",
      "metadata": {
        "id": "vke7AbsE1g4V",
        "colab_type": "code",
        "colab": {
          "base_uri": "https://localhost:8080/",
          "height": 69
        },
        "outputId": "e175b5b8-9735-4361-b15a-f6c4c190dbb5"
      },
      "source": [
        "x = int(input(\"請輸入起始的正整數：\"))\n",
        "y = int(input(\"請輸入終止的正整數：\"))\n",
        "odds_sum = 0\n",
        "for i in range(x, y + 1):\n",
        "    if i % 2:\n",
        "        odds_sum += i\n",
        "print(odds_sum)"
      ],
      "execution_count": 3,
      "outputs": [
        {
          "output_type": "stream",
          "text": [
            "請輸入起始的正整數：55\n",
            "請輸入終止的正整數：66\n",
            "360\n"
          ],
          "name": "stdout"
        }
      ]
    },
    {
      "cell_type": "code",
      "metadata": {
        "id": "wn3PagVC1lkl",
        "colab_type": "code",
        "colab": {
          "base_uri": "https://localhost:8080/",
          "height": 69
        },
        "outputId": "be28758d-7147-47b4-b699-f157fc9ec098"
      },
      "source": [
        "x = int(input(\"請輸入起始的正整數：\"))\n",
        "y = int(input(\"請輸入終止的正整數：\"))\n",
        "odds = []\n",
        "for i in range(x, y + 1):\n",
        "    if i % 2:\n",
        "        odds.append(i)\n",
        "print(odds)"
      ],
      "execution_count": 4,
      "outputs": [
        {
          "output_type": "stream",
          "text": [
            "請輸入起始的正整數：55\n",
            "請輸入終止的正整數：66\n",
            "[55, 57, 59, 61, 63, 65]\n"
          ],
          "name": "stdout"
        }
      ]
    },
    {
      "cell_type": "code",
      "metadata": {
        "id": "jpKVIrb21rQM",
        "colab_type": "code",
        "colab": {
          "base_uri": "https://localhost:8080/",
          "height": 35
        },
        "outputId": "f6793d90-b9c0-4b52-88e9-b4eb1d34d3af"
      },
      "source": [
        "avengers_ratings = [8.1, 7.3, 8.5, 8.8]\n",
        "recommendations = [i for i in avengers_ratings if i >= 8]\n",
        "print(recommendations)"
      ],
      "execution_count": 5,
      "outputs": [
        {
          "output_type": "stream",
          "text": [
            "[8.1, 8.5, 8.8]\n"
          ],
          "name": "stdout"
        }
      ]
    },
    {
      "cell_type": "code",
      "metadata": {
        "id": "fnQzHann1x6c",
        "colab_type": "code",
        "colab": {
          "base_uri": "https://localhost:8080/",
          "height": 87
        },
        "outputId": "29d7f34b-8b40-4905-e86e-33499bf3059c"
      },
      "source": [
        "avengers = [\"The Avengers\", \"Avengers: Age of Ultron\", \"Avengers: Infinity War\", \"Avengers: Endgame\"]\n",
        "for i, val in enumerate(avengers):\n",
        "    print(\"第 {} 部上映的復仇者聯盟是：{}\".format(i+1, val))"
      ],
      "execution_count": 6,
      "outputs": [
        {
          "output_type": "stream",
          "text": [
            "第 1 部上映的復仇者聯盟是：The Avengers\n",
            "第 2 部上映的復仇者聯盟是：Avengers: Age of Ultron\n",
            "第 3 部上映的復仇者聯盟是：Avengers: Infinity War\n",
            "第 4 部上映的復仇者聯盟是：Avengers: Endgame\n"
          ],
          "name": "stdout"
        }
      ]
    },
    {
      "cell_type": "code",
      "metadata": {
        "id": "K3ee7NU-1_ZX",
        "colab_type": "code",
        "colab": {
          "base_uri": "https://localhost:8080/",
          "height": 87
        },
        "outputId": "c9348168-1970-4c73-b035-e068aa8abd09"
      },
      "source": [
        "years = [2012, 2015, 2018, 2019]\n",
        "avengers = [\"The Avengers\", \"Avengers: Age of Ultron\", \"Avengers: Infinity War\", \"Avengers: Endgame\"]\n",
        "for y, m in zip(years, avengers):\n",
        "    print(\"{}: {}\".format(y, m))"
      ],
      "execution_count": 7,
      "outputs": [
        {
          "output_type": "stream",
          "text": [
            "2012: The Avengers\n",
            "2015: Avengers: Age of Ultron\n",
            "2018: Avengers: Infinity War\n",
            "2019: Avengers: Endgame\n"
          ],
          "name": "stdout"
        }
      ]
    },
    {
      "cell_type": "code",
      "metadata": {
        "id": "knG3FAuA2CQO",
        "colab_type": "code",
        "colab": {
          "base_uri": "https://localhost:8080/",
          "height": 87
        },
        "outputId": "f676b04b-b54e-4848-8c53-8d69f55c3f81"
      },
      "source": [
        "years = [2012, 2015, 2018, 2019]\n",
        "avengers = [\"The Avengers\", \"Avengers: Age of Ultron\", \"Avengers: Infinity War\", \"Avengers: Endgame\"]\n",
        "for y, m, i in zip(years, avengers, range(4)):\n",
        "    print(\"第 {} 部復仇者聯盟：{} 上映年份為 {}\".format(i+1, m, y))"
      ],
      "execution_count": 8,
      "outputs": [
        {
          "output_type": "stream",
          "text": [
            "第 1 部復仇者聯盟：The Avengers 上映年份為 2012\n",
            "第 2 部復仇者聯盟：Avengers: Age of Ultron 上映年份為 2015\n",
            "第 3 部復仇者聯盟：Avengers: Infinity War 上映年份為 2018\n",
            "第 4 部復仇者聯盟：Avengers: Endgame 上映年份為 2019\n"
          ],
          "name": "stdout"
        }
      ]
    },
    {
      "cell_type": "code",
      "metadata": {
        "id": "BM8lCAI52F0N",
        "colab_type": "code",
        "colab": {
          "base_uri": "https://localhost:8080/",
          "height": 35
        },
        "outputId": "743caced-54fc-447a-d872-74b2d64c9e3a"
      },
      "source": [
        "from random import sample\n",
        "\n",
        "sampling_times = 0\n",
        "while True:\n",
        "    sample_num = sample(range(1, 1001), 1)[0]\n",
        "    sampling_times += 1\n",
        "    if sample_num % 56 == 0:\n",
        "        break\n",
        "print(sampling_times)"
      ],
      "execution_count": 9,
      "outputs": [
        {
          "output_type": "stream",
          "text": [
            "26\n"
          ],
          "name": "stdout"
        }
      ]
    }
  ]
}